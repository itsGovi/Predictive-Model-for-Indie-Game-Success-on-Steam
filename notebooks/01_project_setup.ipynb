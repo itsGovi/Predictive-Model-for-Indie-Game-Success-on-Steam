{
 "cells": [
  {
   "cell_type": "code",
   "execution_count": 4,
   "id": "1b574f58-5dfc-4fe2-b653-98fb9aefc523",
   "metadata": {},
   "outputs": [
    {
     "name": "stdout",
     "output_type": "stream",
     "text": [
      "pandas version: 2.2.2\n",
      "numpy version: 2.0.0\n",
      "requests version: 2.32.3\n",
      "beautifulsoup4 version: 4.12.3\n",
      "seaborn version: 0.13.2\n",
      "scikit-learn version: 1.5.1\n"
     ]
    }
   ],
   "source": [
    "import pandas as pd\n",
    "import numpy as np\n",
    "import requests\n",
    "from bs4 import __version__ as bs4_version\n",
    "import matplotlib.pyplot as plt\n",
    "import seaborn as sns\n",
    "from sklearn import __version__ as sklearn_version\n",
    "\n",
    "print(f\"pandas version: {pd.__version__}\")\n",
    "print(f\"numpy version: {np.__version__}\")\n",
    "print(f\"requests version: {requests.__version__}\")\n",
    "print(f\"beautifulsoup4 version: {bs4_version}\")\n",
    "print(f\"matplotlib version: {plt.__version__}\")\n",
    "print(f\"seaborn version: {sns.__version__}\")\n",
    "print(f\"scikit-learn version: {sklearn_version}\")"
   ]
  },
  {
   "cell_type": "code",
   "execution_count": null,
   "id": "91c8c207-774b-487b-bb4b-fbbc57b69c88",
   "metadata": {},
   "outputs": [],
   "source": []
  }
 ],
 "metadata": {
  "kernelspec": {
   "display_name": "Python 3 (ipykernel)",
   "language": "python",
   "name": "python3"
  },
  "language_info": {
   "codemirror_mode": {
    "name": "ipython",
    "version": 3
   },
   "file_extension": ".py",
   "mimetype": "text/x-python",
   "name": "python",
   "nbconvert_exporter": "python",
   "pygments_lexer": "ipython3",
   "version": "3.12.4"
  }
 },
 "nbformat": 4,
 "nbformat_minor": 5
}
